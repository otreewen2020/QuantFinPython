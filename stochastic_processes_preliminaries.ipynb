{
 "cells": [
  {
   "cell_type": "code",
   "execution_count": null,
   "metadata": {
    "collapsed": true
   },
   "outputs": [],
   "source": [
    "# import of the libraries\n",
    "import numpy as np\n",
    "import pandas as pd\n",
    "import matplotlib.pyplot as plt\n",
    "import matplotlib.cm as cmp\n",
    "# %matplotlib inline\n",
    "%matplotlib notebook\n",
    "plt.rcParams['figure.figsize'] = (10.0, 5.0)\n",
    "import time\n",
    "import scipy.stats as spst\n",
    "import math\n",
    "from mpl_toolkits.mplot3d import Axes3D"
   ]
  },
  {
   "cell_type": "code",
   "execution_count": null,
   "metadata": {
    "collapsed": true
   },
   "outputs": [],
   "source": [
    "# import supporting module stochastic_processes\n",
    "import stochastic_processes as sp"
   ]
  },
  {
   "cell_type": "markdown",
   "metadata": {},
   "source": [
    "# 1. Geometric brownian motion - change of measure"
   ]
  },
  {
   "cell_type": "markdown",
   "metadata": {},
   "source": [
    "A plot of sample trajectories of geometric brownian motion process is produced below. \n",
    "\n",
    "The process has the dynamics:\n",
    "$$ dS(t) = \\mu S(t) dt + \\sigma S(t) dW(t) $$\n",
    "\n",
    "The process can be interpreted to be price of a stock that does not pay any dividends. Let's assume that this is the case. Suppose that the stock we are analysing follows the process with the following parameters:\n",
    "$$ dS(t) = 0.1 S(t) dt + \\sqrt{0.2} S(t) dW(t) $$\n",
    "\n",
    "under the real-world measure $ \\mathbb{P} $."
   ]
  },
  {
   "cell_type": "code",
   "execution_count": null,
   "metadata": {
    "collapsed": true
   },
   "outputs": [],
   "source": [
    "# fix the parameters...\n",
    "x_0 = 100\n",
    "n = 500\n",
    "d_t = 1/250\n",
    "mu = 0.1\n",
    "sigma = 0.2\n",
    "\n",
    "# ... and produce trajectories\n",
    "trajs = []\n",
    "for k in range(5):\n",
    "    trajs.append(sp.do_gbm_trajectory(x_0, n, d_t, mu, sigma))"
   ]
  },
  {
   "cell_type": "code",
   "execution_count": null,
   "metadata": {},
   "outputs": [],
   "source": [
    "# plot the trajectories\n",
    "colors = ['r', 'b', 'g', 'y', 'c']\n",
    "for k in range(5):\n",
    "    plt.plot(trajs[k], color=colors[k], label=\"Trajectory \" + str(k+1))\n",
    "plt.title('Sample trajectories of geometric brownian motion', fontsize=20)\n",
    "plt.legend(loc='upper left')\n"
   ]
  },
  {
   "cell_type": "markdown",
   "metadata": {},
   "source": [
    "Before proceeding, it is worth recalling that the solution to the SDE above is:\n",
    "$$ S(T) = S(0) \\exp\\left({(\\mu - \\frac{1}{2}\\sigma^2)T + \\sigma W(T)}\\right) $$\n",
    "With $S(0)$ being the starting price.\n",
    "\n",
    "It follows that the distribution of the price $S(T)$ is lognormal. This can be easily verified formally. Here, we take an informal approach of simulating the trajectories and fitting the lognormal distribution to them."
   ]
  },
  {
   "cell_type": "code",
   "execution_count": null,
   "metadata": {},
   "outputs": [],
   "source": [
    "N = 20000 # number of simulated tajectories\n",
    "list_of_final_prices = []\n",
    "# this might take a few seconds...\n",
    "time_start = time.perf_counter()\n",
    "for k in range(N):\n",
    "    list_of_final_prices.append(sp.do_gbm_trajectory(x_0, n, d_t, mu, sigma)[-1])\n",
    "time_end = time.perf_counter()\n",
    "print(\"Time passed: \", str(time_end-time_start))"
   ]
  },
  {
   "cell_type": "code",
   "execution_count": null,
   "metadata": {},
   "outputs": [],
   "source": [
    "# now, let's plot the histogram:\n",
    "df_fin_prices = pd.DataFrame(data=list_of_final_prices, columns=['Values'])\n",
    "df_fin_prices.hist(bins=50, color='r', normed=True, edgecolor='black', linewidth=2)\n",
    "plt.title(\"Histogram of the simulated final prices\", fontsize=20)\n",
    "# add vertical line at the point of expectation\n",
    "vline_loc = df_fin_prices.loc[:, 'Values'].mean()\n",
    "plt.axvline(vline_loc, color='b', linestyle='dashed', linewidth=2.5)\n",
    "# and add the fitted lognormal distribution curve:\n",
    "lognorm_emp_mean = np.log(df_fin_prices.loc[:, 'Values']).mean()\n",
    "lognorm_emp_std = np.log(df_fin_prices.loc[:, 'Values']).std()\n",
    "lognorm_grid = np.linspace(df_fin_prices.loc[:, 'Values'].min(), df_fin_prices.loc[:, 'Values'].max(), 1000)\n",
    "lognorm_pdf = spst.lognorm.pdf(lognorm_grid, s=lognorm_emp_std, scale=np.exp(lognorm_emp_mean))\n",
    "plt.plot(lognorm_grid, lognorm_pdf, color='b', linewidth=2.25)"
   ]
  },
  {
   "cell_type": "markdown",
   "metadata": {},
   "source": [
    "Checking only the distribution of the final price is not really that compelling. So let's have a look at the distribution of the maximum of the stock price over a fixed time interval $[0, T]$. \n",
    "\n",
    "We start by looking at the distribution of the maximum of a standard Wiener process, which is driving the changes of $S(t)$, over the period [0, t]:\n",
    "\n",
    "$$ M(t) = \\sup \\left\\{s \\in [0,t]: W(s) \\right\\} $$\n",
    "\n",
    "\n",
    "The random variable $M(t)$ is called $running$ $maximum$.\n",
    "\n",
    "Using the reflection property of the Wiener process it can be demonstrated that $M(t)$ has the following c.d.f and p.d.f. under the real-world measure $\\mathbb{P}$: \n",
    "\n",
    "$$ F_{M(t)}(m) = 2 \\left( 1-P(W(t) \\leq m) \\right) = 2 \\left( 1 - P \\left( U \\leq \\frac{m}{\\sqrt{t}} \\right) \\right)$$\n",
    "\n",
    "$$ f_{M(t)}(m) = \\frac{2}{\\sqrt{2 \\pi t}} e^{-m^2/(2t)} $$\n",
    "\n",
    "Now, let's generate Wiener process trajectories and have the look at the empirical distribution of the maxima."
   ]
  },
  {
   "cell_type": "code",
   "execution_count": null,
   "metadata": {},
   "outputs": [],
   "source": [
    "N = 50000 # number of trajectories\n",
    "n = 500 # number of steps\n",
    "d_t = 1/250 # time step length\n",
    "list_of_maxima = []\n",
    "time_start = time.perf_counter()\n",
    "for k in range(N):\n",
    "    # Wiener process always starts at (0,0)\n",
    "    temp_traj = np.cumsum(np.hstack([np.zeros(1), np.random.normal(size=n, loc=0, scale=math.sqrt(d_t))]))\n",
    "    list_of_maxima.append(temp_traj.max())\n",
    "time_end = time.perf_counter()\n",
    "print(\"Time elapsed: \", str(time_end - time_start))"
   ]
  },
  {
   "cell_type": "code",
   "execution_count": null,
   "metadata": {},
   "outputs": [],
   "source": [
    "# plot the maxima\n",
    "fig2 = plt.figure(2)\n",
    "ax2 = fig2.add_subplot(111)\n",
    "ax2.hist(list_of_maxima, bins = 50, normed=True, label=\"Simulated maxima\", edgecolor='black', linewidth=1.33)\n",
    "# now add the above-mentioned density on top of it\n",
    "wiener_max_den_lambda = lambda m,t: 2/math.sqrt(2*math.pi*t)*np.exp(-m**2/(2*t))\n",
    "temp_range = np.linspace(min(list_of_maxima), max(list_of_maxima), 1000)\n",
    "max_dist_density = [wiener_max_den_lambda(m, 2) for m in temp_range]\n",
    "ax2.plot(temp_range, max_dist_density, color='r', linewidth=2.5, label = 'Derived density')\n",
    "ax2.legend(loc=\"upper right\", fontsize=16)\n",
    "# ax2.title(\"Density function of the running maximum of Wiener process\", fontsize=22)"
   ]
  },
  {
   "cell_type": "markdown",
   "metadata": {},
   "source": [
    "Using the reflection property of the standard Wiener process it is also possible to prove that the joint probability density function of $(M(t), W(t))$ under the real-world measure $\\mathbb{P}$ is:\n",
    "\n",
    "$$ f_{M(t), W(t)}(m,w) = \\frac{2(2m-w)}{t\\sqrt{2 \\pi t}} \\exp \\left\\{ -\\frac{1}{2} \\frac{(2m-w)^2}{t} \\right\\} $$\n",
    "\n",
    "on the region  $ S = \\left\\{ (m,w) \\in \\mathbb{R}^2: m \\geq 0, m \\geq w  \\right\\} $."
   ]
  }
 ],
 "metadata": {
  "kernelspec": {
   "display_name": "Python 3",
   "language": "python",
   "name": "python3"
  },
  "language_info": {
   "codemirror_mode": {
    "name": "ipython",
    "version": 3
   },
   "file_extension": ".py",
   "mimetype": "text/x-python",
   "name": "python",
   "nbconvert_exporter": "python",
   "pygments_lexer": "ipython3",
   "version": "3.4.3"
  }
 },
 "nbformat": 4,
 "nbformat_minor": 2
}
